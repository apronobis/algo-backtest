{
 "cells": [
  {
   "cell_type": "markdown",
   "id": "ea63cd0b-9873-4afd-815c-35a056bc0e37",
   "metadata": {},
   "source": [
    "# Order Latency Data\n",
    "\n",
    "To obtain more realistic backtesting results, accounting for latencies is crucial. Therefore, it's important to collect both feed data and order data with timestamps to measure your order latency. The best approach is to gather your own order latencies. You can collect order latency based on your live trading or by regularly submitting orders at a price that cannot be filled and then canceling them for recording purposes. However, if you don't have access to them or want to establish a target, you will need to artificially generate order latency. You can model this latency based on factors such as feed latency, trade volume, and the number of events. In this guide, we will demonstrate a simple method to generate order latency from feed latency using a multiplier and offset for adjustment."
   ]
  },
  {
   "cell_type": "markdown",
   "id": "05e2fc98-3935-4161-91cd-b1336440759c",
   "metadata": {},
   "source": [
    "<div class=\"alert alert-info\">\n",
    "    \n",
    "This example is written for the HftBacktest implementation in Rust.\n",
    "    \n",
    "</div>"
   ]
  },
  {
   "cell_type": "markdown",
   "id": "ce73ae54-2e57-489e-919e-d1f9271f4461",
   "metadata": {},
   "source": [
    "First, loads the feed data."
   ]
  },
  {
   "cell_type": "code",
   "execution_count": 1,
   "id": "ab04f05e-259b-4a68-b701-1df3f2c19a82",
   "metadata": {},
   "outputs": [
    {
     "data": {
      "text/plain": [
       "array([(3758096386, 1580515202342000128, 1580515202497051904, 9364.51, 1.197),\n",
       "       (3758096386, 1580515202342000128, 1580515202497346048, 9365.67, 0.02 ),\n",
       "       (3758096386, 1580515202342000128, 1580515202497351936, 9365.86, 0.01 ),\n",
       "       ...,\n",
       "       (3758096385, 1580601599836000000, 1580601599962960896, 9351.47, 3.914),\n",
       "       (3489660929, 1580601599836000000, 1580601599963461120, 9397.78, 0.1  ),\n",
       "       (3758096385, 1580601599848000000, 1580601599973647104, 9348.14, 3.98 )],\n",
       "      dtype=[('ev', '<i8'), ('exch_ts', '<i8'), ('local_ts', '<i8'), ('px', '<f4'), ('qty', '<f4')])"
      ]
     },
     "execution_count": 1,
     "metadata": {},
     "output_type": "execute_result"
    }
   ],
   "source": [
    "import numpy as np\n",
    "\n",
    "data = np.load('btcusdt_20200201.npz')['data']\n",
    "data"
   ]
  },
  {
   "cell_type": "markdown",
   "id": "ef2deb8c-4cd3-44ad-a639-b42f126be63a",
   "metadata": {},
   "source": [
    "For easy manipulation, converts it into a DataFrame."
   ]
  },
  {
   "cell_type": "code",
   "execution_count": 2,
   "id": "bb32210a-34b6-489d-b32d-0522ce9daa97",
   "metadata": {},
   "outputs": [
    {
     "data": {
      "text/html": [
       "<div>\n",
       "<style scoped>\n",
       "    .dataframe tbody tr th:only-of-type {\n",
       "        vertical-align: middle;\n",
       "    }\n",
       "\n",
       "    .dataframe tbody tr th {\n",
       "        vertical-align: top;\n",
       "    }\n",
       "\n",
       "    .dataframe thead th {\n",
       "        text-align: right;\n",
       "    }\n",
       "</style>\n",
       "<table border=\"1\" class=\"dataframe\">\n",
       "  <thead>\n",
       "    <tr style=\"text-align: right;\">\n",
       "      <th></th>\n",
       "      <th>ev</th>\n",
       "      <th>exch_ts</th>\n",
       "      <th>local_ts</th>\n",
       "      <th>px</th>\n",
       "      <th>qty</th>\n",
       "    </tr>\n",
       "  </thead>\n",
       "  <tbody>\n",
       "    <tr>\n",
       "      <th>0</th>\n",
       "      <td>3758096386</td>\n",
       "      <td>1580515202342000128</td>\n",
       "      <td>1580515202497051904</td>\n",
       "      <td>9364.509766</td>\n",
       "      <td>1.197</td>\n",
       "    </tr>\n",
       "    <tr>\n",
       "      <th>1</th>\n",
       "      <td>3758096386</td>\n",
       "      <td>1580515202342000128</td>\n",
       "      <td>1580515202497346048</td>\n",
       "      <td>9365.669922</td>\n",
       "      <td>0.020</td>\n",
       "    </tr>\n",
       "    <tr>\n",
       "      <th>2</th>\n",
       "      <td>3758096386</td>\n",
       "      <td>1580515202342000128</td>\n",
       "      <td>1580515202497351936</td>\n",
       "      <td>9365.860352</td>\n",
       "      <td>0.010</td>\n",
       "    </tr>\n",
       "    <tr>\n",
       "      <th>3</th>\n",
       "      <td>3758096386</td>\n",
       "      <td>1580515202342000128</td>\n",
       "      <td>1580515202497357056</td>\n",
       "      <td>9366.360352</td>\n",
       "      <td>0.002</td>\n",
       "    </tr>\n",
       "    <tr>\n",
       "      <th>4</th>\n",
       "      <td>3758096386</td>\n",
       "      <td>1580515202342000128</td>\n",
       "      <td>1580515202497362944</td>\n",
       "      <td>9366.360352</td>\n",
       "      <td>0.003</td>\n",
       "    </tr>\n",
       "    <tr>\n",
       "      <th>...</th>\n",
       "      <td>...</td>\n",
       "      <td>...</td>\n",
       "      <td>...</td>\n",
       "      <td>...</td>\n",
       "      <td>...</td>\n",
       "    </tr>\n",
       "    <tr>\n",
       "      <th>27532597</th>\n",
       "      <td>3489660929</td>\n",
       "      <td>1580601599812000000</td>\n",
       "      <td>1580601599944403968</td>\n",
       "      <td>9397.790039</td>\n",
       "      <td>0.000</td>\n",
       "    </tr>\n",
       "    <tr>\n",
       "      <th>27532598</th>\n",
       "      <td>3758096385</td>\n",
       "      <td>1580601599825999872</td>\n",
       "      <td>1580601599952176128</td>\n",
       "      <td>9354.799805</td>\n",
       "      <td>4.070</td>\n",
       "    </tr>\n",
       "    <tr>\n",
       "      <th>27532599</th>\n",
       "      <td>3758096385</td>\n",
       "      <td>1580601599836000000</td>\n",
       "      <td>1580601599962960896</td>\n",
       "      <td>9351.469727</td>\n",
       "      <td>3.914</td>\n",
       "    </tr>\n",
       "    <tr>\n",
       "      <th>27532600</th>\n",
       "      <td>3489660929</td>\n",
       "      <td>1580601599836000000</td>\n",
       "      <td>1580601599963461120</td>\n",
       "      <td>9397.780273</td>\n",
       "      <td>0.100</td>\n",
       "    </tr>\n",
       "    <tr>\n",
       "      <th>27532601</th>\n",
       "      <td>3758096385</td>\n",
       "      <td>1580601599848000000</td>\n",
       "      <td>1580601599973647104</td>\n",
       "      <td>9348.139648</td>\n",
       "      <td>3.980</td>\n",
       "    </tr>\n",
       "  </tbody>\n",
       "</table>\n",
       "<p>27532602 rows × 5 columns</p>\n",
       "</div>"
      ],
      "text/plain": [
       "                  ev              exch_ts             local_ts           px  \\\n",
       "0         3758096386  1580515202342000128  1580515202497051904  9364.509766   \n",
       "1         3758096386  1580515202342000128  1580515202497346048  9365.669922   \n",
       "2         3758096386  1580515202342000128  1580515202497351936  9365.860352   \n",
       "3         3758096386  1580515202342000128  1580515202497357056  9366.360352   \n",
       "4         3758096386  1580515202342000128  1580515202497362944  9366.360352   \n",
       "...              ...                  ...                  ...          ...   \n",
       "27532597  3489660929  1580601599812000000  1580601599944403968  9397.790039   \n",
       "27532598  3758096385  1580601599825999872  1580601599952176128  9354.799805   \n",
       "27532599  3758096385  1580601599836000000  1580601599962960896  9351.469727   \n",
       "27532600  3489660929  1580601599836000000  1580601599963461120  9397.780273   \n",
       "27532601  3758096385  1580601599848000000  1580601599973647104  9348.139648   \n",
       "\n",
       "            qty  \n",
       "0         1.197  \n",
       "1         0.020  \n",
       "2         0.010  \n",
       "3         0.002  \n",
       "4         0.003  \n",
       "...         ...  \n",
       "27532597  0.000  \n",
       "27532598  4.070  \n",
       "27532599  3.914  \n",
       "27532600  0.100  \n",
       "27532601  3.980  \n",
       "\n",
       "[27532602 rows x 5 columns]"
      ]
     },
     "execution_count": 2,
     "metadata": {},
     "output_type": "execute_result"
    }
   ],
   "source": [
    "import pandas as pd\n",
    "\n",
    "df = pd.DataFrame(data)\n",
    "df"
   ]
  },
  {
   "cell_type": "markdown",
   "id": "0a2f5db2-b6ab-420d-b5f9-0ca8e123607b",
   "metadata": {},
   "source": [
    "Selects only the events that have both a valid exchange timestamp and a valid local timestamp to get feed latency."
   ]
  },
  {
   "cell_type": "code",
   "execution_count": 3,
   "id": "349335b0-50a4-4e3a-a721-c55388d71b01",
   "metadata": {},
   "outputs": [],
   "source": [
    "from hftbacktest.reader import EXCH_EVENT, LOCAL_EVENT\n",
    "\n",
    "df = df[(df['ev'] & EXCH_EVENT == EXCH_EVENT) | (df['ev'] & LOCAL_EVENT == LOCAL_EVENT)]"
   ]
  },
  {
   "cell_type": "markdown",
   "id": "e641eb14-5370-4cc3-bf52-e940d94745a1",
   "metadata": {},
   "source": [
    "Reduces the number of rows by resampling to approximately 1-second intervals."
   ]
  },
  {
   "cell_type": "code",
   "execution_count": 4,
   "id": "577ad180-42ad-46f8-9723-1b2c9b14d9c2",
   "metadata": {},
   "outputs": [],
   "source": [
    "s = (df['local_ts'] / 1_000_000_000).astype(int)\n",
    "df = df.groupby(s).last()"
   ]
  },
  {
   "cell_type": "markdown",
   "id": "7834be83-788e-48ae-92e9-0f01bda90cd5",
   "metadata": {},
   "source": [
    "Converts back to the structured NumPy array."
   ]
  },
  {
   "cell_type": "code",
   "execution_count": 5,
   "id": "d69e7709-d947-4e62-b5a4-c8f1e623de2a",
   "metadata": {},
   "outputs": [
    {
     "data": {
      "text/plain": [
       "rec.array([(3489660930, 1580515202843000064, 1580515202979365120, 9364.54, 1.   ),\n",
       "           (3758096385, 1580515203551000064, 1580515203943566080, 9318.45, 0.   ),\n",
       "           (3489660929, 1580515203788999936, 1580515204875639040, 9370.5 , 0.088),\n",
       "           ...,\n",
       "           (3489660929, 1580601597864000000, 1580601597987785984, 9397.47, 0.096),\n",
       "           (3758096385, 1580601598870000128, 1580601598997068032, 9391.37, 2.   ),\n",
       "           (3758096385, 1580601599848000000, 1580601599973647104, 9348.14, 3.98 )],\n",
       "          dtype=[('ev', '<i8'), ('exch_ts', '<i8'), ('local_ts', '<i8'), ('px', '<f4'), ('qty', '<f4')])"
      ]
     },
     "execution_count": 5,
     "metadata": {},
     "output_type": "execute_result"
    }
   ],
   "source": [
    "data = df.to_records(index=False)\n",
    "data"
   ]
  },
  {
   "cell_type": "markdown",
   "id": "4d67d41d-2ef7-4267-80e9-9bc7bbd5a271",
   "metadata": {},
   "source": [
    "\n",
    "Generatse order latency. Order latency consists of two components: the latency until the order request reaches the exchange's matching engine and the latency until the response arrives backto the localy. Order latency is not the same as feed latency and does not need to be proportional to feed latency. However, for simplicity, we model order latency to be proportional to feed latency using a multiplier and offset."
   ]
  },
  {
   "cell_type": "code",
   "execution_count": 6,
   "id": "1de7a129-5856-473e-8453-effb1f3884cd",
   "metadata": {},
   "outputs": [
    {
     "data": {
      "text/plain": [
       "array([(1580515202979365120, 1580515203524825344, 1580515203933920512, 0),\n",
       "       (1580515203943566080, 1580515205513830144, 1580515206691528192, 0),\n",
       "       (1580515204875639040, 1580515209222195456, 1580515212482112768, 0),\n",
       "       ...,\n",
       "       (1580601597987785984, 1580601598482929920, 1580601598854287872, 0),\n",
       "       (1580601598997068032, 1580601599505339648, 1580601599886543360, 0),\n",
       "       (1580601599973647104, 1580601600476235520, 1580601600853176832, 0)],\n",
       "      dtype=[('req_timestamp', '<i8'), ('exch_timestamp', '<i8'), ('resp_timestamp', '<i8'), ('_reserved', '<i8')])"
      ]
     },
     "execution_count": 6,
     "metadata": {},
     "output_type": "execute_result"
    }
   ],
   "source": [
    "mul_entry = 4\n",
    "offset_entry = 0\n",
    "\n",
    "mul_resp = 3\n",
    "offset_resp = 0\n",
    "\n",
    "order_latency = np.zeros(len(data), dtype=[('req_timestamp', '<i8'), ('exch_timestamp', '<i8'), ('resp_timestamp', '<i8'), ('_reserved', '<i8')])\n",
    "for i, (ev, exch_ts, local_ts, _, _) in enumerate(data):\n",
    "    feed_latency = local_ts - exch_ts\n",
    "    order_entry_latency = mul_entry * feed_latency + offset_entry\n",
    "    order_exit_latency = mul_resp * feed_latency + offset_resp\n",
    "\n",
    "    req_ts = local_ts\n",
    "    order_exch_ts = req_ts + order_entry_latency\n",
    "    resp_ts = order_exch_ts + order_exit_latency\n",
    "    \n",
    "    order_latency[i] = (req_ts, order_exch_ts, resp_ts, 0)\n",
    "    \n",
    "order_latency"
   ]
  },
  {
   "cell_type": "code",
   "execution_count": 7,
   "id": "cea9998d-ed9f-4ac0-aa0e-ecd791e717a5",
   "metadata": {},
   "outputs": [
    {
     "data": {
      "text/html": [
       "<div>\n",
       "<style scoped>\n",
       "    .dataframe tbody tr th:only-of-type {\n",
       "        vertical-align: middle;\n",
       "    }\n",
       "\n",
       "    .dataframe tbody tr th {\n",
       "        vertical-align: top;\n",
       "    }\n",
       "\n",
       "    .dataframe thead th {\n",
       "        text-align: right;\n",
       "    }\n",
       "</style>\n",
       "<table border=\"1\" class=\"dataframe\">\n",
       "  <thead>\n",
       "    <tr style=\"text-align: right;\">\n",
       "      <th></th>\n",
       "      <th>req_timestamp</th>\n",
       "      <th>exch_timestamp</th>\n",
       "      <th>resp_timestamp</th>\n",
       "      <th>_reserved</th>\n",
       "    </tr>\n",
       "  </thead>\n",
       "  <tbody>\n",
       "    <tr>\n",
       "      <th>0</th>\n",
       "      <td>1580515202979365120</td>\n",
       "      <td>1580515203524825344</td>\n",
       "      <td>1580515203933920512</td>\n",
       "      <td>0</td>\n",
       "    </tr>\n",
       "    <tr>\n",
       "      <th>1</th>\n",
       "      <td>1580515203943566080</td>\n",
       "      <td>1580515205513830144</td>\n",
       "      <td>1580515206691528192</td>\n",
       "      <td>0</td>\n",
       "    </tr>\n",
       "    <tr>\n",
       "      <th>2</th>\n",
       "      <td>1580515204875639040</td>\n",
       "      <td>1580515209222195456</td>\n",
       "      <td>1580515212482112768</td>\n",
       "      <td>0</td>\n",
       "    </tr>\n",
       "    <tr>\n",
       "      <th>3</th>\n",
       "      <td>1580515205962135040</td>\n",
       "      <td>1580515213302674944</td>\n",
       "      <td>1580515218808079872</td>\n",
       "      <td>0</td>\n",
       "    </tr>\n",
       "    <tr>\n",
       "      <th>4</th>\n",
       "      <td>1580515206983780096</td>\n",
       "      <td>1580515215966900992</td>\n",
       "      <td>1580515222704241664</td>\n",
       "      <td>0</td>\n",
       "    </tr>\n",
       "    <tr>\n",
       "      <th>...</th>\n",
       "      <td>...</td>\n",
       "      <td>...</td>\n",
       "      <td>...</td>\n",
       "      <td>...</td>\n",
       "    </tr>\n",
       "    <tr>\n",
       "      <th>86389</th>\n",
       "      <td>1580601595997114880</td>\n",
       "      <td>1580601596509574656</td>\n",
       "      <td>1580601596893919488</td>\n",
       "      <td>0</td>\n",
       "    </tr>\n",
       "    <tr>\n",
       "      <th>86390</th>\n",
       "      <td>1580601596994060032</td>\n",
       "      <td>1580601597510300416</td>\n",
       "      <td>1580601597897480704</td>\n",
       "      <td>0</td>\n",
       "    </tr>\n",
       "    <tr>\n",
       "      <th>86391</th>\n",
       "      <td>1580601597987785984</td>\n",
       "      <td>1580601598482929920</td>\n",
       "      <td>1580601598854287872</td>\n",
       "      <td>0</td>\n",
       "    </tr>\n",
       "    <tr>\n",
       "      <th>86392</th>\n",
       "      <td>1580601598997068032</td>\n",
       "      <td>1580601599505339648</td>\n",
       "      <td>1580601599886543360</td>\n",
       "      <td>0</td>\n",
       "    </tr>\n",
       "    <tr>\n",
       "      <th>86393</th>\n",
       "      <td>1580601599973647104</td>\n",
       "      <td>1580601600476235520</td>\n",
       "      <td>1580601600853176832</td>\n",
       "      <td>0</td>\n",
       "    </tr>\n",
       "  </tbody>\n",
       "</table>\n",
       "<p>86394 rows × 4 columns</p>\n",
       "</div>"
      ],
      "text/plain": [
       "             req_timestamp       exch_timestamp       resp_timestamp  \\\n",
       "0      1580515202979365120  1580515203524825344  1580515203933920512   \n",
       "1      1580515203943566080  1580515205513830144  1580515206691528192   \n",
       "2      1580515204875639040  1580515209222195456  1580515212482112768   \n",
       "3      1580515205962135040  1580515213302674944  1580515218808079872   \n",
       "4      1580515206983780096  1580515215966900992  1580515222704241664   \n",
       "...                    ...                  ...                  ...   \n",
       "86389  1580601595997114880  1580601596509574656  1580601596893919488   \n",
       "86390  1580601596994060032  1580601597510300416  1580601597897480704   \n",
       "86391  1580601597987785984  1580601598482929920  1580601598854287872   \n",
       "86392  1580601598997068032  1580601599505339648  1580601599886543360   \n",
       "86393  1580601599973647104  1580601600476235520  1580601600853176832   \n",
       "\n",
       "       _reserved  \n",
       "0              0  \n",
       "1              0  \n",
       "2              0  \n",
       "3              0  \n",
       "4              0  \n",
       "...          ...  \n",
       "86389          0  \n",
       "86390          0  \n",
       "86391          0  \n",
       "86392          0  \n",
       "86393          0  \n",
       "\n",
       "[86394 rows x 4 columns]"
      ]
     },
     "execution_count": 7,
     "metadata": {},
     "output_type": "execute_result"
    }
   ],
   "source": [
    "df_order_latency = pd.DataFrame(order_latency)\n",
    "df_order_latency"
   ]
  },
  {
   "cell_type": "markdown",
   "id": "0c0eb2a2-64dd-4d4a-93f6-0c52a4bdc142",
   "metadata": {},
   "source": [
    "Checks if latency has invalid negative values."
   ]
  },
  {
   "cell_type": "code",
   "execution_count": 8,
   "id": "542eace5-590e-4d30-a552-0cf0825885d5",
   "metadata": {},
   "outputs": [],
   "source": [
    "order_entry_latency = df_order_latency['exch_timestamp'] - df_order_latency['req_timestamp']\n",
    "order_resp_latency = df_order_latency['resp_timestamp'] - df_order_latency['exch_timestamp']"
   ]
  },
  {
   "cell_type": "code",
   "execution_count": 9,
   "id": "7e770e94-4660-4b0b-827b-951a046d9529",
   "metadata": {},
   "outputs": [
    {
     "data": {
      "text/plain": [
       "0"
      ]
     },
     "execution_count": 9,
     "metadata": {},
     "output_type": "execute_result"
    }
   ],
   "source": [
    "np.sum(order_entry_latency <= 0)"
   ]
  },
  {
   "cell_type": "code",
   "execution_count": 10,
   "id": "a86707e5-b358-4e38-89b8-6d6e19b0225f",
   "metadata": {},
   "outputs": [
    {
     "data": {
      "text/plain": [
       "0"
      ]
     },
     "execution_count": 10,
     "metadata": {},
     "output_type": "execute_result"
    }
   ],
   "source": [
    "np.sum(order_resp_latency <= 0)"
   ]
  },
  {
   "cell_type": "markdown",
   "id": "18944b3a-747c-4c38-96e1-0ab6930e098c",
   "metadata": {},
   "source": [
    "Here, we wrap the entire process into a method with `njit` for increased speed."
   ]
  },
  {
   "cell_type": "code",
   "execution_count": 11,
   "id": "15b080d5-9e5f-4124-a83f-813bb2ff9414",
   "metadata": {},
   "outputs": [],
   "source": [
    "from numba import njit\n",
    "\n",
    "@njit\n",
    "def generate_order_latency_nb(data, order_latency, mul_entry, offset_entry, mul_resp, offset_resp):   \n",
    "    for i in range(len(data)):\n",
    "        ev = data[i][0]\n",
    "        exch_ts = data[i][1]\n",
    "        local_ts = data[i][2]\n",
    "        feed_latency = local_ts - exch_ts\n",
    "        order_entry_latency = mul_entry * feed_latency + offset_entry\n",
    "        order_resp_latency = mul_resp * feed_latency + offset_resp\n",
    "    \n",
    "        req_ts = local_ts\n",
    "        order_exch_ts = req_ts + order_entry_latency\n",
    "        resp_ts = order_exch_ts + order_resp_latency\n",
    "        \n",
    "        order_latency[i][0] = req_ts\n",
    "        order_latency[i][1] = order_exch_ts\n",
    "        order_latency[i][2] = resp_ts\n",
    "\n",
    "def generate_order_latency(feed_file, output_file = None, mul_entry = 1, offset_entry = 0, mul_resp = 1, offset_resp = 0):\n",
    "    data = np.load(feed_file)['data']\n",
    "    df = pd.DataFrame(data)\n",
    "    df = df[(df['ev'] & EXCH_EVENT == EXCH_EVENT) | (df['ev'] & LOCAL_EVENT == LOCAL_EVENT)]\n",
    "    s = (df['local_ts'] / 1_000_000_000).astype(int)\n",
    "    df = df.groupby(s).last()\n",
    "    data = df.to_records(index=False)\n",
    "\n",
    "    order_latency = np.zeros(len(data), dtype=[('req_timestamp', '<i8'), ('exch_timestamp', '<i8'), ('resp_timestamp', '<i8'), ('_reserved', '<i8')])\n",
    "    generate_order_latency_nb(data, order_latency, mul_entry, offset_entry, mul_resp, offset_resp)\n",
    "\n",
    "    if output_file is not None:\n",
    "        np.savez_compressed(output_file, data=order_latency)\n",
    "    \n",
    "    return order_latency"
   ]
  },
  {
   "cell_type": "code",
   "execution_count": null,
   "id": "09772349-cebb-4698-8c6f-b77cbd19f15b",
   "metadata": {},
   "outputs": [],
   "source": [
    "order_latency = generate_order_latency('btcusdt_20200201.npz', output_file='latency_20200201.npz', mul_entry = 4, mul_resp = 3)"
   ]
  }
 ],
 "metadata": {
  "kernelspec": {
   "display_name": "Python 3 (ipykernel)",
   "language": "python",
   "name": "python3"
  },
  "language_info": {
   "codemirror_mode": {
    "name": "ipython",
    "version": 3
   },
   "file_extension": ".py",
   "mimetype": "text/x-python",
   "name": "python",
   "nbconvert_exporter": "python",
   "pygments_lexer": "ipython3",
   "version": "3.10.14"
  }
 },
 "nbformat": 4,
 "nbformat_minor": 5
}
